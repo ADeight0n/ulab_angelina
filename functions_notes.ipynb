{
 "cells": [
  {
   "cell_type": "code",
   "execution_count": 1,
   "id": "78b2ef2c-8e86-40d4-b36e-ada49716bcec",
   "metadata": {},
   "outputs": [
    {
     "data": {
      "text/plain": [
       "int"
      ]
     },
     "execution_count": 1,
     "metadata": {},
     "output_type": "execute_result"
    }
   ],
   "source": [
    "type(1)"
   ]
  },
  {
   "cell_type": "code",
   "execution_count": 3,
   "id": "95adfb38-69d7-4cac-8e75-83f7e3f4aa4c",
   "metadata": {},
   "outputs": [
    {
     "data": {
      "text/plain": [
       "4"
      ]
     },
     "execution_count": 3,
     "metadata": {},
     "output_type": "execute_result"
    }
   ],
   "source": [
    "2+2"
   ]
  },
  {
   "cell_type": "code",
   "execution_count": 11,
   "id": "f8beb909-b9e1-4ced-a06f-d02e927f5b05",
   "metadata": {},
   "outputs": [
    {
     "data": {
      "text/plain": [
       "str"
      ]
     },
     "execution_count": 11,
     "metadata": {},
     "output_type": "execute_result"
    }
   ],
   "source": [
    "type(\"24\")"
   ]
  },
  {
   "cell_type": "code",
   "execution_count": 9,
   "id": "e828297d-e1c5-40ae-9e62-41790ae3c810",
   "metadata": {},
   "outputs": [
    {
     "data": {
      "text/plain": [
       "24"
      ]
     },
     "execution_count": 9,
     "metadata": {},
     "output_type": "execute_result"
    }
   ],
   "source": [
    "int(24)"
   ]
  },
  {
   "cell_type": "code",
   "execution_count": 15,
   "id": "d4a386f4-7375-4896-a9bf-767c1e0ac676",
   "metadata": {},
   "outputs": [
    {
     "data": {
      "text/plain": [
       "42.0"
      ]
     },
     "execution_count": 15,
     "metadata": {},
     "output_type": "execute_result"
    }
   ],
   "source": [
    "#type(1.)\n",
    "float(42)"
   ]
  },
  {
   "cell_type": "code",
   "execution_count": 19,
   "id": "4f97ba6c-25a8-4839-90d6-fd81317789c3",
   "metadata": {},
   "outputs": [
    {
     "data": {
      "text/plain": [
       "'Python is awesome'"
      ]
     },
     "execution_count": 19,
     "metadata": {},
     "output_type": "execute_result"
    }
   ],
   "source": [
    "# Add strings using +\n",
    "\"Python\" + \" \" + \"is\" + \" \"  +\"awesome\""
   ]
  },
  {
   "cell_type": "code",
   "execution_count": 21,
   "id": "707b6551-890b-423e-ba3a-b8e51ef47f27",
   "metadata": {},
   "outputs": [
    {
     "name": "stdout",
     "output_type": "stream",
     "text": [
      "2\n"
     ]
    }
   ],
   "source": [
    "# You can sete multiple variables at onece\n",
    "m, n, p = 2, 4, 6\n",
    "print(m)"
   ]
  },
  {
   "cell_type": "code",
   "execution_count": 23,
   "id": "33003c3e-8159-4987-b99b-ddee9cc1f643",
   "metadata": {},
   "outputs": [
    {
     "name": "stdout",
     "output_type": "stream",
     "text": [
      "10\n",
      "10\n"
     ]
    }
   ],
   "source": [
    "# You can set variables to the same value\n",
    "a = b = c = 10\n",
    "print(a)\n",
    "print(b)"
   ]
  },
  {
   "cell_type": "code",
   "execution_count": 27,
   "id": "2c67c86f-3803-4011-a072-4d6ffdb9a3c6",
   "metadata": {},
   "outputs": [
    {
     "name": "stdout",
     "output_type": "stream",
     "text": [
      "10\n",
      "5\n"
     ]
    }
   ],
   "source": [
    "print(a)\n",
    "a = 5\n",
    "print(a)"
   ]
  },
  {
   "cell_type": "code",
   "execution_count": 36,
   "id": "fe2372ad-92ee-4066-bfbc-0dec2d716506",
   "metadata": {},
   "outputs": [
    {
     "data": {
      "text/plain": [
       "'Hello angelina!'"
      ]
     },
     "execution_count": 36,
     "metadata": {},
     "output_type": "execute_result"
    }
   ],
   "source": [
    "# FUNCTIONS\n",
    "def greet(name):\n",
    "    talk = \"Hello\" + \" \" + name + \"!\"\n",
    "    return talk\n",
    "\n",
    "greet(\"angelina\")"
   ]
  },
  {
   "cell_type": "code",
   "execution_count": 38,
   "id": "f660e699-6528-4291-a64d-6220b65fa612",
   "metadata": {},
   "outputs": [
    {
     "data": {
      "text/plain": [
       "'Hello Melina!'"
      ]
     },
     "execution_count": 38,
     "metadata": {},
     "output_type": "execute_result"
    }
   ],
   "source": [
    "greet(\"Melina\")"
   ]
  },
  {
   "cell_type": "code",
   "execution_count": 48,
   "id": "b31dee7b-8e81-490e-aa7b-e4aa0440b1bf",
   "metadata": {},
   "outputs": [
    {
     "data": {
      "text/plain": [
       "\"Dex's favorite color is pueple.\""
      ]
     },
     "execution_count": 48,
     "metadata": {},
     "output_type": "execute_result"
    }
   ],
   "source": [
    "# Functions can have defult arguments\n",
    "def fav_color(color, person=\"Brianna\"):\n",
    "    sentence = person + \"'s favorite color is \" + color + \".\"\n",
    "    return sentence\n",
    "\n",
    "#fav_color(color = \"purple\", person = \"Brianna\")\n",
    "fav_color(color=\"purple\") #only one argument input required\n",
    "fav_color(color = \"purple\", person = \"Dex\") #can overwrite default arguments"
   ]
  },
  {
   "cell_type": "code",
   "execution_count": 52,
   "id": "1b74072c-81f5-49bb-af55-f8da6bf88697",
   "metadata": {},
   "outputs": [
    {
     "name": "stdout",
     "output_type": "stream",
     "text": [
      "6.0\n"
     ]
    }
   ],
   "source": [
    "# Practice good coding skills\n",
    "def area_of_triangle(base, height):\n",
    "    #computes the area of a triangle\n",
    "    # Area = 1/2 (base * height)\n",
    "\n",
    "    area = (base*height)/2\n",
    "    return area\n",
    "\n",
    "my_base = 3\n",
    "my_height = 4\n",
    "my_area = area_of_triangle(my_base, my_height)\n",
    "print(my_area)"
   ]
  },
  {
   "cell_type": "code",
   "execution_count": 58,
   "id": "ff90b7b3-0956-4f80-afc7-340f59e59f29",
   "metadata": {},
   "outputs": [
    {
     "name": "stdout",
     "output_type": "stream",
     "text": [
      "10\n",
      "10\n"
     ]
    }
   ],
   "source": [
    "# global vs local variable\n",
    "x = 10 #global\n",
    "\n",
    "def display_variable():\n",
    "    print(x)\n",
    "\n",
    "display_variable()\n",
    "print(x)"
   ]
  },
  {
   "cell_type": "code",
   "execution_count": 64,
   "id": "19f80e1a-d359-447f-aaee-605eb93bd4ef",
   "metadata": {},
   "outputs": [
    {
     "name": "stdout",
     "output_type": "stream",
     "text": [
      "5\n"
     ]
    },
    {
     "ename": "NameError",
     "evalue": "name 'y' is not defined",
     "output_type": "error",
     "traceback": [
      "\u001b[0;31m---------------------------------------------------------------------------\u001b[0m",
      "\u001b[0;31mNameError\u001b[0m                                 Traceback (most recent call last)",
      "Cell \u001b[0;32mIn[64], line 6\u001b[0m\n\u001b[1;32m      3\u001b[0m     \u001b[38;5;28mprint\u001b[39m(y)\n\u001b[1;32m      5\u001b[0m display_variable2()\n\u001b[0;32m----> 6\u001b[0m \u001b[38;5;28mprint\u001b[39m(y)\n",
      "\u001b[0;31mNameError\u001b[0m: name 'y' is not defined"
     ]
    }
   ],
   "source": [
    "def display_variable2():\n",
    "    y = 5 #local, only seen by this function\n",
    "    print(y)\n",
    "\n",
    "display_variable2()\n",
    "#print(y) <-- returns errors"
   ]
  },
  {
   "cell_type": "code",
   "execution_count": 72,
   "id": "991a8f16-0062-4cba-aa03-b06e5b2dda63",
   "metadata": {},
   "outputs": [
    {
     "name": "stdout",
     "output_type": "stream",
     "text": [
      "6\n",
      "9\n"
     ]
    }
   ],
   "source": [
    "x = 3\n",
    "x += 3\n",
    "y = x + 3\n",
    "print(x)\n",
    "print(y)"
   ]
  },
  {
   "cell_type": "code",
   "execution_count": null,
   "id": "98ca729f-1da1-4f16-98ad-e2e980710cc6",
   "metadata": {},
   "outputs": [],
   "source": []
  }
 ],
 "metadata": {
  "kernelspec": {
   "display_name": "Python 3 (ipykernel)",
   "language": "python",
   "name": "python3"
  },
  "language_info": {
   "codemirror_mode": {
    "name": "ipython",
    "version": 3
   },
   "file_extension": ".py",
   "mimetype": "text/x-python",
   "name": "python",
   "nbconvert_exporter": "python",
   "pygments_lexer": "ipython3",
   "version": "3.12.4"
  }
 },
 "nbformat": 4,
 "nbformat_minor": 5
}
