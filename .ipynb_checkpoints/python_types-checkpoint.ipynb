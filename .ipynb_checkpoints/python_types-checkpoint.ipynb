{
 "cells": [
  {
   "cell_type": "code",
   "execution_count": 5,
   "id": "a115df57-141b-4c31-a0b9-a620dd5d4581",
   "metadata": {},
   "outputs": [
    {
     "name": "stdout",
     "output_type": "stream",
     "text": [
      "Hello, world!\n"
     ]
    }
   ],
   "source": [
    "#print() function\n",
    "print(\"Hello, world!\")"
   ]
  },
  {
   "cell_type": "code",
   "execution_count": 9,
   "id": "8a4eca0b-888e-4919-9019-eb3bf4f34107",
   "metadata": {},
   "outputs": [
    {
     "data": {
      "text/plain": [
       "int"
      ]
     },
     "execution_count": 9,
     "metadata": {},
     "output_type": "execute_result"
    }
   ],
   "source": [
    "#integer\n",
    "type(3)"
   ]
  },
  {
   "cell_type": "code",
   "execution_count": 11,
   "id": "7a43392f-de03-46a5-b00b-ee25f240a6be",
   "metadata": {},
   "outputs": [
    {
     "data": {
      "text/plain": [
       "float"
      ]
     },
     "execution_count": 11,
     "metadata": {},
     "output_type": "execute_result"
    }
   ],
   "source": [
    "#float\n",
    "type(3.)"
   ]
  },
  {
   "cell_type": "code",
   "execution_count": 13,
   "id": "94f2f82e-a485-4244-b10c-37354d0d5198",
   "metadata": {},
   "outputs": [
    {
     "data": {
      "text/plain": [
       "str"
      ]
     },
     "execution_count": 13,
     "metadata": {},
     "output_type": "execute_result"
    }
   ],
   "source": [
    "#string\n",
    "type(\"Angelina\")"
   ]
  },
  {
   "cell_type": "code",
   "execution_count": 15,
   "id": "9729cae9-ef6d-4f19-b5fc-3740ac764e7a",
   "metadata": {},
   "outputs": [
    {
     "data": {
      "text/plain": [
       "bool"
      ]
     },
     "execution_count": 15,
     "metadata": {},
     "output_type": "execute_result"
    }
   ],
   "source": [
    "#boolean\n",
    "type(False)"
   ]
  },
  {
   "cell_type": "code",
   "execution_count": 23,
   "id": "f213fbe2-b186-4be7-bf73-5c954fd9ad08",
   "metadata": {},
   "outputs": [
    {
     "data": {
      "text/plain": [
       "list"
      ]
     },
     "execution_count": 23,
     "metadata": {},
     "output_type": "execute_result"
    }
   ],
   "source": [
    "#list\n",
    "#type([1, 2, 3])\n",
    "type([\"Python\", 4.3, True])"
   ]
  },
  {
   "cell_type": "code",
   "execution_count": 27,
   "id": "ce62954c-c602-4a25-afe8-f7e2b3edbb56",
   "metadata": {},
   "outputs": [
    {
     "data": {
      "text/plain": [
       "dict"
      ]
     },
     "execution_count": 27,
     "metadata": {},
     "output_type": "execute_result"
    }
   ],
   "source": [
    "#dictionary\n",
    "type({\"color\" : \"blue\"})"
   ]
  },
  {
   "cell_type": "code",
   "execution_count": 29,
   "id": "f2668b61-6512-432e-ba04-6afb96859b92",
   "metadata": {},
   "outputs": [
    {
     "data": {
      "text/plain": [
       "tuple"
      ]
     },
     "execution_count": 29,
     "metadata": {},
     "output_type": "execute_result"
    }
   ],
   "source": [
    "#tuple\n",
    "type((1,2))"
   ]
  },
  {
   "cell_type": "code",
   "execution_count": 31,
   "id": "c04c2479-cf15-44fd-b9d8-f58385ca1810",
   "metadata": {},
   "outputs": [
    {
     "data": {
      "text/plain": [
       "set"
      ]
     },
     "execution_count": 31,
     "metadata": {},
     "output_type": "execute_result"
    }
   ],
   "source": [
    "#set\n",
    "type({1,2})"
   ]
  },
  {
   "cell_type": "code",
   "execution_count": 33,
   "id": "18b9bd71-6367-4629-bf74-778f830a5231",
   "metadata": {},
   "outputs": [
    {
     "data": {
      "text/plain": [
       "2"
      ]
     },
     "execution_count": 33,
     "metadata": {},
     "output_type": "execute_result"
    }
   ],
   "source": [
    "#addition\n",
    "1+1"
   ]
  },
  {
   "cell_type": "code",
   "execution_count": 35,
   "id": "93c9cd50-ece3-4b22-9aa4-f518a5c3f371",
   "metadata": {},
   "outputs": [
    {
     "data": {
      "text/plain": [
       "1"
      ]
     },
     "execution_count": 35,
     "metadata": {},
     "output_type": "execute_result"
    }
   ],
   "source": [
    "#subtract\n",
    "2-1"
   ]
  },
  {
   "cell_type": "code",
   "execution_count": 37,
   "id": "034a8eb1-4d43-488a-80bf-df6c33a4399c",
   "metadata": {},
   "outputs": [
    {
     "data": {
      "text/plain": [
       "6"
      ]
     },
     "execution_count": 37,
     "metadata": {},
     "output_type": "execute_result"
    }
   ],
   "source": [
    "#multiply\n",
    "2*3"
   ]
  },
  {
   "cell_type": "code",
   "execution_count": 39,
   "id": "386869ec-f7a6-4b79-a613-16077b4d7428",
   "metadata": {},
   "outputs": [
    {
     "data": {
      "text/plain": [
       "1.0"
      ]
     },
     "execution_count": 39,
     "metadata": {},
     "output_type": "execute_result"
    }
   ],
   "source": [
    "#divide\n",
    "2/2"
   ]
  },
  {
   "cell_type": "code",
   "execution_count": 41,
   "id": "0e908786-8dc4-4e74-af69-42a98a364afa",
   "metadata": {},
   "outputs": [
    {
     "data": {
      "text/plain": [
       "1"
      ]
     },
     "execution_count": 41,
     "metadata": {},
     "output_type": "execute_result"
    }
   ],
   "source": [
    "#floor division\n",
    "2//2"
   ]
  },
  {
   "cell_type": "code",
   "execution_count": 43,
   "id": "5ccb897e-3407-4f18-8cee-7ec46fe744cb",
   "metadata": {},
   "outputs": [
    {
     "data": {
      "text/plain": [
       "0"
      ]
     },
     "execution_count": 43,
     "metadata": {},
     "output_type": "execute_result"
    }
   ],
   "source": [
    "#modulus\n",
    "2 % 2"
   ]
  },
  {
   "cell_type": "code",
   "execution_count": 45,
   "id": "ff039be9-d7f6-4c30-b8d7-48c55419cfbe",
   "metadata": {},
   "outputs": [
    {
     "data": {
      "text/plain": [
       "8"
      ]
     },
     "execution_count": 45,
     "metadata": {},
     "output_type": "execute_result"
    }
   ],
   "source": [
    "#exponential\n",
    "2**3"
   ]
  },
  {
   "cell_type": "code",
   "execution_count": null,
   "id": "c414e442-3021-4ee3-b3d3-666568e94c3d",
   "metadata": {},
   "outputs": [],
   "source": []
  }
 ],
 "metadata": {
  "kernelspec": {
   "display_name": "Python 3 (ipykernel)",
   "language": "python",
   "name": "python3"
  },
  "language_info": {
   "codemirror_mode": {
    "name": "ipython",
    "version": 3
   },
   "file_extension": ".py",
   "mimetype": "text/x-python",
   "name": "python",
   "nbconvert_exporter": "python",
   "pygments_lexer": "ipython3",
   "version": "3.12.4"
  }
 },
 "nbformat": 4,
 "nbformat_minor": 5
}
