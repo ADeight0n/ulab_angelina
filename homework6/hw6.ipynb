{
 "cells": [
  {
   "cell_type": "markdown",
   "id": "21a1f0d2-d75c-4443-b816-1d1db3760454",
   "metadata": {},
   "source": [
    "# HW 6 - Iterables\n",
    "ULAB - Physics and Astronomy Division \\\n",
    "Due **Wednesday, October 30th, 2024 at 11:59pm** on Gradescope\n",
    "\n",
    "### REMINDER: Once you are done with this homework, make sure to include a screenshot of you pushing this notebook inside of your homework6 branch. Make sure to include this screenshot in your branch before submitting to Gradescope!\n",
    "\n",
    "### If there is no screenshot, then you will recieve a zero! \n",
    "\n",
    "General Tip (so you don't get silly points taken off):\n",
    "- Make sure **each function** follows good coding practices (i.e. a comment, detailed names, different steps on each line, etc)."
   ]
  },
  {
   "cell_type": "markdown",
   "id": "8dc7e46b-1e8e-486c-a2e9-d615c687028b",
   "metadata": {},
   "source": [
    "# 1 Lists\n",
    "\n",
    "## 1.1 List Slicing and Striding\n",
    "Write a **function** that takes in a list of integers and returns:\n",
    "\n",
    "- the first 5 elements\n",
    "- the last 5 elements\n",
    "- every 2nd element in the list\n",
    "- the list in reverse order.\n",
    "\n",
    "Use the test case below, along with two other ones (that you make-up):\n",
    "\n",
    "```\n",
    "list = [1, 2, 3, 4, 5, 6, 7, 8, 9, 10, 11, 12, 14, 15, 16, 17, 18, 19, 20]\n",
    "```"
   ]
  },
  {
   "cell_type": "code",
   "execution_count": 114,
   "id": "08dabd73-3dbc-4aab-843a-d4b81102835d",
   "metadata": {},
   "outputs": [
    {
     "data": {
      "text/plain": [
       "([1, 2, 3, 4, 5],\n",
       " [16, 17, 18, 19],\n",
       " 2,\n",
       " [20, 19, 18, 17, 16, 15, 14, 12, 11, 10, 9, 8, 7, 6, 5, 4, 3, 2, 1])"
      ]
     },
     "execution_count": 114,
     "metadata": {},
     "output_type": "execute_result"
    }
   ],
   "source": [
    "# Your code here for 1.1\n",
    "list = [1, 2, 3, 4, 5, 6, 7, 8, 9, 10, 11, 12, 14, 15, 16, 17, 18, 19, 20]\n",
    "\n",
    "def modify_list(list):\n",
    "#returns the first five elements, last 5 elements, and the secind element of the list as well as the list in reverse\n",
    "    first_5 = list[0:5]\n",
    "    last_5 = list[-5:-1]\n",
    "    second = list[1]\n",
    "    list.reverse()\n",
    "    return first_5, last_5, second, list\n",
    "    \n",
    "modify_list(list)\n",
    "    "
   ]
  },
  {
   "cell_type": "markdown",
   "id": "92c77920-20fc-455e-bf52-10b5a518ed2d",
   "metadata": {},
   "source": [
    "## 1.2 Iterating Over Lists with For Loops\n",
    "Write a **function** that takes in a list, with a **for** loop to return: \n",
    "- the square of each number in the list\n",
    "- the cube of each even number in the list\n",
    "\n",
    "Use the test case below, along with two other ones (that you make-up):\n",
    "\n",
    "```\n",
    "list = [1, 2, 3, 4, 5, 6]\n",
    "```"
   ]
  },
  {
   "cell_type": "code",
   "execution_count": 117,
   "id": "5054c807-a247-4159-9ce1-43020bcc3000",
   "metadata": {},
   "outputs": [
    {
     "data": {
      "text/plain": [
       "([1, 4, 9, 16, 25, 36], [1, 8, 27, 64, 125, 216])"
      ]
     },
     "execution_count": 117,
     "metadata": {},
     "output_type": "execute_result"
    }
   ],
   "source": [
    "# Your code here for 1.2\n",
    "list = [1, 2, 3, 4, 5, 6]\n",
    "def square_and_cube(list):\n",
    "#returns a list of the squares and cubes of each item in the list\n",
    "    sq_list = []\n",
    "    cube_list = []\n",
    "    for i in list:\n",
    "        sq_list.append(i**2)\n",
    "        cube_list.append(i**3)\n",
    "    return sq_list, cube_list\n",
    "\n",
    "square_and_cube(list)\n"
   ]
  },
  {
   "cell_type": "markdown",
   "id": "e2e075da-c004-400d-b796-5435e096816d",
   "metadata": {},
   "source": [
    "# 2 Dictionaries\n",
    "We have not fully covered **dictionaries** in class, but a **dictionary** is a collection of key-value pairs. Each key is unique and is associated with a specific value. Like a real dictionary! \n",
    "\n",
    "You can create a dictionary by placing key-value pairs inside of curly brackets `{}` with a `:` separating the key from the value. \n",
    "\n",
    "Run the cell below for an example:"
   ]
  },
  {
   "cell_type": "code",
   "execution_count": 120,
   "id": "dbdb0f41-4f57-4524-ab51-ff1fc502bdfc",
   "metadata": {
    "scrolled": true
   },
   "outputs": [
    {
     "name": "stdout",
     "output_type": "stream",
     "text": [
      "{'Mercury': 0.39, 'Venus': 0.72, 'Earth': 1.0, 'Mars': 1.52, 'Jupiter': 5.2, 'Saturn': 9.58, 'Uranus': 19.22, 'Neptune': 30.05}\n"
     ]
    }
   ],
   "source": [
    "# A dictionary that contains some data about the planets in our solar system\n",
    "planet_data = {\n",
    "    \"Mercury\": 0.39, \n",
    "    \"Venus\": 0.72,\n",
    "    \"Earth\": 1.00, # distance from the Sun in AU\n",
    "    \"Mars\": 1.52,\n",
    "    \"Jupiter\": 5.20,\n",
    "    \"Saturn\": 9.58,\n",
    "    \"Uranus\": 19.22,\n",
    "    \"Neptune\": 30.05\n",
    "}   \n",
    "\n",
    "print(planet_data) # print the dictonary"
   ]
  },
  {
   "cell_type": "markdown",
   "id": "886c93f4-0027-4969-ba67-cc12eca04c9c",
   "metadata": {},
   "source": [
    "## 2.1 Looping through a dictionary\n",
    "Write a function that takes in the `planet_data` dictionary and uses a `for` loop to print the names of each of the planets and its distance from the sun."
   ]
  },
  {
   "cell_type": "code",
   "execution_count": 123,
   "id": "a3ab065a-42f5-4aa0-8e0f-38e87c583464",
   "metadata": {},
   "outputs": [
    {
     "data": {
      "text/plain": [
       "(['Mercury',\n",
       "  'Venus',\n",
       "  'Earth',\n",
       "  'Mars',\n",
       "  'Jupiter',\n",
       "  'Saturn',\n",
       "  'Uranus',\n",
       "  'Neptune'],\n",
       " [0.39, 0.72, 1.0, 1.52, 5.2, 9.58, 19.22, 30.05])"
      ]
     },
     "execution_count": 123,
     "metadata": {},
     "output_type": "execute_result"
    }
   ],
   "source": [
    "# Your code here for 2.1\n",
    "def planets_and_distance_from_sun(my_dict):\n",
    "#takes the planet_data dictionary and creates and returns two lists for thier names and distances\n",
    "    planets = [] #empty list for planet names\n",
    "    distances = [] # empty list for planet distances\n",
    "    for i in my_dict:\n",
    "        #loops trough the dictionary to create 2 lists, one of the planet names and one for their distances\n",
    "        planets.append(i)\n",
    "        distances.append(my_dict[i])\n",
    "    return planets, distances\n",
    "\n",
    "planets_and_distance_from_sun(planet_data)"
   ]
  },
  {
   "cell_type": "markdown",
   "id": "2b38b6fb-ce68-4f20-a8a1-ba241e8db53e",
   "metadata": {},
   "source": [
    "## 2.2 Dictionaries and Conditionals\n",
    "Write a function that uses a while loop to print all the planets that are a minimum distance of 5 AU from the Sun. "
   ]
  },
  {
   "cell_type": "code",
   "execution_count": 126,
   "id": "6e07cf13-efba-4a75-ad75-0428dc31108d",
   "metadata": {},
   "outputs": [
    {
     "ename": "KeyboardInterrupt",
     "evalue": "",
     "output_type": "error",
     "traceback": [
      "\u001b[0;31m---------------------------------------------------------------------------\u001b[0m",
      "\u001b[0;31mKeyboardInterrupt\u001b[0m                         Traceback (most recent call last)",
      "Cell \u001b[0;32mIn[126], line 22\u001b[0m\n\u001b[1;32m     19\u001b[0m             distances\u001b[38;5;241m.\u001b[39mappend(\u001b[38;5;28mdict\u001b[39m[i])\n\u001b[1;32m     20\u001b[0m     \u001b[38;5;28;01mreturn\u001b[39;00m distances\n\u001b[0;32m---> 22\u001b[0m planets_less_than_5AU_from_sun(planet_data)\n",
      "Cell \u001b[0;32mIn[126], line 17\u001b[0m, in \u001b[0;36mplanets_less_than_5AU_from_sun\u001b[0;34m(dict)\u001b[0m\n\u001b[1;32m     15\u001b[0m distances \u001b[38;5;241m=\u001b[39m [] \u001b[38;5;66;03m# empty list for planet distances\u001b[39;00m\n\u001b[1;32m     16\u001b[0m \u001b[38;5;28;01mfor\u001b[39;00m i \u001b[38;5;129;01min\u001b[39;00m \u001b[38;5;28mdict\u001b[39m:\n\u001b[0;32m---> 17\u001b[0m     \u001b[38;5;28;01mwhile\u001b[39;00m \u001b[38;5;28mdict\u001b[39m[i] \u001b[38;5;241m<\u001b[39m \u001b[38;5;241m5\u001b[39m:\n\u001b[1;32m     18\u001b[0m         planets\u001b[38;5;241m.\u001b[39mappend(i)\n\u001b[1;32m     19\u001b[0m         distances\u001b[38;5;241m.\u001b[39mappend(\u001b[38;5;28mdict\u001b[39m[i])\n",
      "\u001b[0;31mKeyboardInterrupt\u001b[0m: "
     ]
    }
   ],
   "source": [
    "# Your code here for 2.2\n",
    "planet_data = {\n",
    "    \"Mercury\": 0.39, \n",
    "    \"Venus\": 0.72,\n",
    "    \"Earth\": 1.00, # distance from the Sun in AU\n",
    "    \"Mars\": 1.52,\n",
    "    \"Jupiter\": 5.20,\n",
    "    \"Saturn\": 9.58,\n",
    "    \"Uranus\": 19.22,\n",
    "    \"Neptune\": 30.05\n",
    "}   \n",
    "\n",
    "def planets_less_than_5AU_from_sun(dict):\n",
    "    planets = [] #empty list for planet names\n",
    "    distances = [] # empty list for planet distances\n",
    "    for i in dict:\n",
    "        while dict[i] < 5:\n",
    "            planets.append(i)\n",
    "            distances.append(dict[i])\n",
    "    return distances\n",
    "        \n",
    "planets_less_than_5AU_from_sun(planet_data)\n"
   ]
  },
  {
   "cell_type": "markdown",
   "id": "5e1ba0c0-5dd9-44e8-895c-73a36d614949",
   "metadata": {},
   "source": [
    "# 3 Observing Stars in a Cluster\n",
    "Your goal is to calculate the total brightness of a group of stars in a star cluster and estimate how long it would take for a telescope to observer each star, depending on their brightness (magnitude). Here is some background information:\n",
    "- The brightness of a star, from a telescope, is measured by its **apparent magnitude**, a LOWER magnitude means a brighter star. A HIGHER magnitude means a fainter star. So a 4th magnitude star is much brighter than a 17th magnitude star.\n",
    "- To convert magnitude into brightness, use the following formula\n",
    "$$\n",
    "\\text{Brightness} = 10^{-\\frac{\\text{magnitude}}{2.5}}\n",
    "$$\n",
    "\n",
    "Use this list of magnitudes and time limit:\n",
    "\n",
    "```\n",
    "magnitudes = [12.5, 13.2, 14.8, 19.1, 21.0, 18.5, 15.3, 10.5, 23.0]\n",
    "time_limit = 500\n",
    "```\n",
    "\n",
    "Expected outcome (your solutions with be the answers to the ???):\n",
    "- Total brightness of the stars: ???\n",
    "- Total observation time for all observable stars: ???\n",
    "- Number of stars that can be observed within 500 seconds: ???"
   ]
  },
  {
   "cell_type": "markdown",
   "id": "336785a7-71bf-434d-982c-dd72dd29cf71",
   "metadata": {},
   "source": [
    "## 3.1 Calculate Brightness\n",
    "1) Write a **function** which inputs a list of star magnitudes (brightnesses).\n",
    "2) Inside your function, use a `for` loop to calculate (with the given formula) the brightness of each star.\n",
    "3) Inside your function, use a `for` loop to sum up the total brightness of all the stars.\n",
    "5) Have your function return the **total brightness** of all the stars and a **list of the brightnesses** of the stars.\n",
    "6) Test out your function with the **given** magnitude values."
   ]
  },
  {
   "cell_type": "code",
   "execution_count": null,
   "id": "ccc331f4-c029-4a82-810b-4a78d0fa1a2a",
   "metadata": {},
   "outputs": [],
   "source": [
    "# Your code here for 3.1\n",
    "magnitudes = [12.5, 13.2, 14.8, 19.1, 21.0, 18.5, 15.3, 10.5, 23.0]\n",
    "time_limit = 500\n",
    "brightness_list = []\n",
    "total_brightness = 0\n",
    "def star_brightness(star_magnitudes):\n",
    "# takes a list of the magnitude of stars and return each of thier brightnesses\n",
    "    brightness_list = []\n",
    "    total_brightness = 0\n",
    "    for i in range(len(star_magnitudes)):\n",
    "    #calculating brightness of each star from its magnitude\n",
    "        brightness = 10**-(star_magnitudes[i]/2.5)\n",
    "        brightness_list.append(brightness)\n",
    "    for i in range(len(brightness_list)):\n",
    "    #sums the brightness of all the stars in the list\n",
    "        total_brightness += brightness_list[i]\n",
    "\n",
    "    return total_brightness, brightness_list\n",
    "\n",
    "star_brightness(magnitudes)\n"
   ]
  },
  {
   "cell_type": "markdown",
   "id": "9aff0e1c-9f88-4ebb-a05b-d39363d9e88e",
   "metadata": {},
   "source": [
    "## 3.2 Observation Time\n",
    "1) Write a **function** which inputs a list of star magnitudes (brightnesses).\n",
    "2) Inside your function, use a `for` loop to calculate the time to observe each star.\n",
    "- You can just assume each star's observation time is inversely proportional to its brightness with the following formula:\n",
    "\n",
    "$$\n",
    "\\text{Observation Time (in seconds)} \\propto \\frac{1}{\\text{Brightness}} \n",
    "$$\n",
    "\n",
    "3) Inside you function, write a `condition` that ignores stars that have a magnitude greater than 20 (very very faint stars).\n",
    "4) Have your function return the **total observation time** (ignoring >20 magnitudes) and a **list of the times** it would take to observe each individual star.\n",
    "5) Test out your function with the **given** magnitude values."
   ]
  },
  {
   "cell_type": "code",
   "execution_count": null,
   "id": "044d17cf-82a8-44b6-8958-447632f713f6",
   "metadata": {},
   "outputs": [],
   "source": [
    "# Your code here for 3.2\n",
    "magnitudes = [12.5, 13.2, 14.8, 19.1, 21.0, 18.5, 15.3, 10.5, 23.0]\n",
    "time_limit = 500\n",
    "def observation_times(star_magnitudes):\n",
    "#calculates the time it takes to observe each star and how long it would take to observe the stars with a magnitude of under 20\n",
    "    observation_time_over_20_mag = 0\n",
    "    obv_times = []\n",
    "    brightness_list = []\n",
    "    for i in range(len(star_magnitudes)):\n",
    "    #calculating brightness of each star from its magnitude\n",
    "        brightness = 10**-(star_magnitudes[i]/2.5)\n",
    "        brightness_list.append(brightness)\n",
    "    for i in range(len(star_magnitudes)):\n",
    "        obv_time = (star_magnitudes[i]**(-1))\n",
    "        obv_times.append(obv_time)\n",
    "        if star_magnitudes[i] <= 20:\n",
    "        #creates a list of observation times ignoring the stars with a magnitude of over 20\n",
    "           observation_time_over_20_mag += obv_time\n",
    "\n",
    "    return observation_time_over_20_mag, obv_times\n",
    "    \n",
    "observation_times(magnitudes)\n",
    "    "
   ]
  },
  {
   "cell_type": "markdown",
   "id": "102d3c15-0b4f-48a7-8fdc-f896c1841aca",
   "metadata": {},
   "source": [
    "## 3.3 Time Until the Limit\n",
    "1) Write a **function** which inputs a list of star magnitudes (brightnesses) and time limit.\n",
    "   - Make your time limit a default argument.\n",
    "2) Inside your function, make a counter called `total time` and set it to 0.\n",
    "3) Inside your function, use a `while` loop to set the time limit of your observation.\n",
    "4) Inside your function, use assigment operators to update the `total time` observed. \n",
    "5) Inside your function, use a `condition` to skip stars with magnitude 20 or greater. \n",
    "6) Have your function return the **number of stars that can be observed** within the time limit and **how long the observation will take** (this should be less than the time limit).\n",
    "7) Test out your function with the **given** magnitude values and time limit."
   ]
  },
  {
   "cell_type": "code",
   "execution_count": null,
   "id": "5a541a62-0903-41bd-91c9-ee21172069a3",
   "metadata": {},
   "outputs": [],
   "source": [
    "# Your code here for 3.3\n",
    "def stars_observed_in_time10(brightnesses, time_limit = time_limit):\n",
    "#counts the number of stars that can be observed in set time, and calculates the total observed time\n",
    "    total_time_counter = 0\n",
    "    total_time_observed = 0\n",
    "    while total_time_observed <= time_limit:\n",
    "        for i in range(len(brightnesses)):\n",
    "            if brightnesses[i] <= 20:\n",
    "                obv_time = (brightnesses[i]**(-1))\n",
    "                total_time_observed += obv_time\n",
    "                total_time_counter += 1\n",
    "\n",
    "\n",
    "        return total_time_counter, total_time_observed\n",
    "\n",
    "stars_observed_in_time10(magnitudes)"
   ]
  },
  {
   "cell_type": "markdown",
   "id": "d2ab246f-9570-483e-b35b-cf1056f20936",
   "metadata": {},
   "source": [
    "## 3.4 Call Upon Your Functions\n",
    "You do not need to rewrite your functions once you have written them! That's what is so awesome about **functions**! \n",
    "\n",
    "1) With a new test case (different magnitudes and time limit) call your three functions you wrote above.\n",
    "2) Print out their return statements, example:\n",
    "\n",
    "```\n",
    ">>> my_return = my_function(my_argument):\n",
    ">>> print(my_return)\n",
    "```"
   ]
  },
  {
   "cell_type": "code",
   "execution_count": null,
   "id": "4c4c9389-04f5-49bc-823c-a12d6c003b60",
   "metadata": {},
   "outputs": [],
   "source": [
    "# Your code here for 3.4\n",
    "star_magnitudes = [15.7, 17.6, 11.3, 21.2, 16.5, 28.9, 14.8]\n",
    "time_limit = 400\n",
    "brightnesses = star_brightness(star_magnitudes)\n",
    "#observation_time = observation_times(star_magnitudes)\n",
    "observed_stars = stars_observed_in_time10(star_magnitudes)\n",
    "print(brightnesses)\n",
    "print(observation_times)\n",
    "print(observed_stars)"
   ]
  },
  {
   "cell_type": "markdown",
   "id": "daba92d4-a646-4efc-824d-85b52ea3c573",
   "metadata": {},
   "source": [
    "# 4 Debug the Quadratic Function!\n",
    "The code below does not follow proper coding hygiene (good coding sklls) and is riddled with bugs! Answer the following question and follow the steps below:\n",
    "1) When you run the cell, what is the first error you get? What does this mean? What are three other things wrong with this function?\n",
    "    The first error is a syntax error for an invalid decilam literal on line 5. This means you are trying to assign an int with a letter which is not acceptable. Other things wrong with the code include the use of 'bottom' and 'neg_answer' as a variable twice becuase with will void the first initialtion becuase the second initialization will override it, the lack of comments, improper use of numbers and letters, and the vaguely named functions and variables. The use of '==' to assign pos_answer a value won't work either. \n",
    "2) Fix the bugs! No importing packages.\n",
    "- renaming things\n",
    "- adding commets\n",
    "- fixing number/letter problem\n",
    "3) Rewrite the code, such that it follows \"good coding skills\".\n",
    "\n",
    "Try out the test case of `a = 2`, `b = -5` and `c = 3`. You should get `(1.5, 1.0)`. Try out your own test case as well."
   ]
  },
  {
   "cell_type": "code",
   "execution_count": 2,
   "id": "cd66dd28-f8d3-447c-8d20-ff3e31bfaa07",
   "metadata": {},
   "outputs": [
    {
     "name": "stdout",
     "output_type": "stream",
     "text": [
      "(1.0, 1.5)\n",
      "((-0.8750000000000001-1.2183492931011204j), (-0.8749999999999999+1.2183492931011204j))\n",
      "((1.9999999999999998-3.605551275463989j), (2+3.605551275463989j))\n"
     ]
    }
   ],
   "source": [
    "def quadratic_formula(a, b , c):\n",
    "#solves the quadratic formula\n",
    "    divisor = 2*a\n",
    "    discriminate =  (b**2)-(4*a*c)\n",
    "    #seperate answers for the +/- part of the quadratic formula\n",
    "    pos_answer = (-b + (discriminate)**(1/2)) / divisor \n",
    "    neg_answer = (-b - (discriminate)**(1/2)) / divisor \n",
    "        \n",
    "    return neg_answer, pos_answer\n",
    "\n",
    "print(quadratic_formula(2, -5, 3))\n",
    "print(quadratic_formula(4, 7, 9))\n",
    "print(quadratic_formula(1, -4, 17))"
   ]
  },
  {
   "cell_type": "markdown",
   "id": "8cf33b19-9bca-484e-8129-d8a4896a1bfa",
   "metadata": {},
   "source": [
    "# 5 Proper Submission\n",
    "To recieve full credit for this assignment make sure you do the following:\n",
    "1) Copy this jupter notebook from the `ulab_2024` repository into **YOUR** local `homework` branch.\n",
    "   \n",
    "3) Follow the tasks. Make sure to run all the cells so that all output is visible.\n",
    "   \n",
    "5) Push this notebook to your remote `homework6` branch. Refer to the lecture slides for more information.\n",
    "      \n",
    "6) **WARNING!! IF YOU DO NOT FOLLOW THIS STEP YOU WILL RECIEVE A ZERO!**\n",
    "   1) Take a screenshot of your command line when you `push` this notebook from your local `homework6` branch to your remote `homework6` branch. Make sure to prove that you are inside a branch besides `main` or `master` by calling `git branch` and make sure to prove that your `homework6` branch only contains the homework4 folder of Jupyter Notebook you copied over from `ulab_2024` (which can be done by calling `ls`). You could also call `git status` before/after as a way to prove you pushed the proper files to the correct branches.\n",
    "   2)  Include that screenshot in your remote branch when you upload your GitHub branch to Gradescope!"
   ]
  },
  {
   "cell_type": "code",
   "execution_count": null,
   "id": "b0926042-d1cf-4a2e-8fc8-d93395a6a7cf",
   "metadata": {},
   "outputs": [],
   "source": []
  }
 ],
 "metadata": {
  "kernelspec": {
   "display_name": "Python 3 (ipykernel)",
   "language": "python",
   "name": "python3"
  },
  "language_info": {
   "codemirror_mode": {
    "name": "ipython",
    "version": 3
   },
   "file_extension": ".py",
   "mimetype": "text/x-python",
   "name": "python",
   "nbconvert_exporter": "python",
   "pygments_lexer": "ipython3",
   "version": "3.12.4"
  }
 },
 "nbformat": 4,
 "nbformat_minor": 5
}
