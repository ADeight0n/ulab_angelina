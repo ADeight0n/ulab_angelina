





# Your comment here
# I certify that I did not use AI tools, such as ChatGPT, to generate or write code for this assignment. All work submitted is my
# own and reflicts my understadong of the material. 





# Your code here 
import numpy as np
import matplotlib.pyplot as plt






# Your code here





# Your code here





theta_0 = np.radians(10) # Convert 10 degrees to radians
omega_0 = 0.0 # Initial angular velocity





# Your code here





# Your code here





# Your code here





# Your code here





zero_crossings = np.where(np.diff(np.sign(theta_values)))[0]
if len(zero_crossings) >= 2:
    T_numerical = 2 * (time_values[zero_crossings[1]] - time_values[zero_crossings[0]])
else:
    T_numerical = None





# Your code here





# Your code here





# Your comment here





# Your code here





url = "https://covid.ourworldindata.org/data/owid-covid-data.csv"





# Your code here





# Your code here








# Your code here





# Your code here





# Your code here





# Your code here





# Your code here





# Your code here





# Your code here





# Your code here





# Your code here





# Your code here 





# Your code here





# Your comment here





# Your code here





# Your code here





# Your code here



