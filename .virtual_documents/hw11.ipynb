





# Your comment hereI certify that I did not use AI tools, such as GhatGPT, to generate or write code for thise assignment. All work 
# submitted is my own and reflects my understanding of the material. 
# Angelina Deighton





# Your code here (WITHOUT NUMPY! or any other modules/libraries/packages)
def orbital_period(semimajor_axis):
    period = (semimajor_axis ** 3)** 0.5
    return period
    





# Your code here
planet_a = 0.5
planet_b = 1.0
planet_c = 1.5

print(orbital_period(planet_a))
print(orbital_period(planet_b))
print(orbital_period(planet_c))






# Your code here
import numpy as np





# Your comment (2 sentences)
# You only need to call numpy once. This is because it is imported to the whole notebook. 





# Your code here

def orbital_period2(semimajor_axis):
    period = np.power(semimajor_axis, 3/2)
    return period





# Your code here
import time





# Your code here
start_time = time.time()
print(orbital_period(5), time.time()-start_time)
start_time = time.time()
print(orbital_period2(5), time.time()-start_time)





# The function written not using numpy was faster. This tells you that numpy functions





# Your code here
import random
sma_list = []
for i in range(1000):
    a = np.random.randint(0, 31)
    sma_list.append(a)






# Your code here
op_time = 0
op_time_np = 0
for a in sma_list:
    start_time = time.time()
    orbital_period(a)
    op_time += time.time()-start_time
    start_time2 = time.time()
    orbital_period2(a)
    op_time_np += time.time()-start_time2
print(op_time, op_time_np)

















# Your code here
radii = [1.2, 0.8, 1.5, 2.0, 1.0, 0.6]
temperatures = [300, 400, 350, 280, 500, 450]
temp_under350 = []
for i in range(len(temperatures)):
    if temperatures[i] < 350:
        temp_under350.append(radii[i])
print(temp_under350)





# Your code here
print(radii[:3])





# Your code here
rad_temp = {
   "radii" : [1.2, 0.8, 1.5, 2.0, 1.0, 0.6],
    "temp" : [300, 400, 350, 280, 500, 450], 
}





# Your code here
rad_temp["names"] = ["prometheus", "actaeon", "sisyphus", "ixion", "tantulus", "arachne"]





# Your code here
rad_one_two = dict(rad_temp)
indexes = []
for i in rad_one_two["radii"]:
    if i >= 1.0 and i <=2.0:
        indexes.append(i)

for i in rad_one_two.keys():
    for j in range(len(i)):
        for a in indexes:
            if a == j:
                del rad_one_two[i[a]]
print(rad_one_two)





# Your code here
sma_arr = np.array(sma_list)





# Your code here
print(np.mean(sma_arr))
print(np.median(sma_arr))
print(np.max(sma_arr))
print(np.min(sma_arr))





# Your code here
print(np.sum(sma_arr))





# Your code here
rad_temp_arr = np.array([radii,temperatures])
print(rad_temp_arr)





# Your code here
row = 0
col = 0
for i in rad_temp_arr:
    row+=1
    for j in i:
        col+=1
        if int(row) == 1 and int(col) == 2:
              print(rad_temp_arr[row,col])





# Your code here
rad_temp_arr[1,2]





# Your code here
import matplotlib.pyplot as plt

semi_major_axes = [0.5, 1.0, 2.0, 1.5, 1.2, 0.8]
orbital_periods = []

for i in semi_major_axes:
    orbital_periods.append(orbital_period(i))
                           
plt.scatter(semi_major_axes, orbital_periods)

plt.title("Orbital Periods of Exoplanets")
plt.xlabel('semi-major axes')
plt.ylabel("orbial period")
plt.legend()

plt.show()





# Your code here
radii = [1.2, 0.8, 1.5, 2.0, 1.0, 0.6]
temperatures = [300, 400, 350, 280, 500, 450]
plt.bar(radii, temperatures)

plt.title("Equilibrium Temperatures vs. Radii")
plt.xlabel("planet radii")
plt.ylabel("equilibrium temperatures")
plt.legend()





# Your code here
temperatures = [300, 400, 350, 280, 500, 450]
temp = []
for i in range(len(temperatures)):
    temp.append(temperatures[i]*.01)

print(temp)
fig = plt.figure()
ax = fig.add_subplot()
ax.scatter(semi_major_axes, orbital_periods, label = "orbital periods of exoplanets")
ax.bar(temp, radii, label = "equilibrium temperatures vs. radii")
ax.legend()







# Your code here

import orbital_periods as op

op.orbital_period(5)x
