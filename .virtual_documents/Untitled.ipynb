#introduction to lists
#createing a list
my_list = [10, 20, 30, 40 ,50]
print(my_list)


#accessing elements by their elements
print(my_list[0])
print(my_list[3])


#slicing a list (extract a part of the list)
print(my_list[0:3])
print(my_list[1:4])


#negetive indexing
print(my_list[-1])


#modifying
my_list[2] = 35
print(my_list)


#appending elements
my_list.append(60)
print(my_list)


#removing elements
my_list.remove(20)
print(my_list)


#list slicing and striding
#slicing (stepping)
print(my_list[::2])

#slicing in reverse
#[defaultstart:defaultstop:step]
print(my_list[::-1])


#For loops
#use a for loop to iterate over a list
print(my_list)
for element in my_list:
    print(element)


#using range() to loop through indices
for i in range(len(my_list)):
    print(i, my_list[i])


#conditionals (if, elif, else)
#if-else statment
x = 15
y = 5
if x > 10:
    print('x is greater than 10')
else:
    print('x is less than 10')



#using conditionals inside loops
for element in my_list:
    if element > 40:
        print(f"{element} is greater than 40")
    elif element == 40:
        print(f"{element} is equal to 40")
    else:
        print(f"{element} is less than 40")


# while loops
count = 0
while count < 5:
    print("count:", count)
    count+=1


#combining loops and conditionals again
#using a while loop with conditionals to find a number in a list
target = 40
found = False
i = 0
while not found and i < len(my_list):
    if my_list[i] == target:
        print(f"Found {target} at index {i}")
        found = True
    i += 1
    
