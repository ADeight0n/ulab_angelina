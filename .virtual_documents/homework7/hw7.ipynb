





import numpy as np





# Your code here
my_list = [3, 7, 14, 18, 19, 24]
my_arr = np.array([3, 7, 14, 18, 19, 24])





# Your code here
my_list *= 4
my_arr *= 4
#the items in list will be printed over 4 times and the items in the array will each be multiplied by 4
print(my_list)
print(my_arr)





# Your code here
my_list += my_list
my_arr += my_arr
print(my_list)
print(my_arr)
# all the items in my_list are added to the end of my_list but for my_arr all the coresponding items are added. 





# Your code here
# my_list -= my_list
my_arr -= my_arr
print(my_list)
print(my_arr)
#subtracting my_list from my_list returns an error becuase it removes all values from the list and the computer doesn't like that. 
#For subtracting my_arr from my_arr, an array of 0's is returned. 





# Your code here
# my_list *= my_list
my_arr *= my_arr
print(my_list)
print(my_arr)
#first I reran the cell initializing my_arr and my_list so I had numbers to work with. Multiplying two lists does not work but 
#multiplying two arrays will return an array of the same size with each item multiplied by itself





# Your code here
#my_list = my_list / my_list
my_arr = my_arr / my_arr
print(my_list)
print(my_arr)
#division didn't work with the lists but did work with the array where it divied each coresponding item. However, '/=' did not work 
#and I had explicitly write out the division.











# Your code here
arr3 = np.array([[2, 4, 6], [8, 10, 12], [14, 16, 18]])
def second_value(arr2D):
#returns the second value for each row in the array
    second_values = arr2D[0:len(arr2D), 1]
    return second_values

print(second_value(arr3))











#To access the second value of each row in a nested list you would need to loop through each element in each row. 
#This would take two for statements, the first one looping though the rows and the second one looping though the elements. 

nested_list = [[1, 2, 3], [4, 5, 6]]
def second_value_nested_loop(list):
#returns the second value of each row in a list
    second_values = []
    for i in range(len(list)):
        for j in range(len(list[i])):
            if j == 1:
                second_values.append(list[i][j])

    return second_values
second_value_nested_loop(nested_list)





# Your code here
#themed after array interation 
apple_tree = np.array([['leaf', 'leaf', 'apple', 'leaf'],['apple', 'apple', 'leaf', 'leaf'], ['leaf', 'apple', 'leaf', 'leaf'],
                      ['leaf', 'leaf', 'apple', 'apple']])
def apple_picking(tree_arr):
# takes an apple tree array, and picks out the apples from the leaves. returns how many apples were picked from that apple tree array
    basket = np.array([])
    for i in tree_arr: #looping though rows
        for j in i: # looping though elements of each row
            if  j == 'apple': #checking if element is an apple
                basket = np.append(basket, j) #adding apple to basket 
    message = (f'You have {len(basket)} apples in your basket')

    return message

apple_picking(apple_tree)





# Your code here
#Iterating Arrays
import numpy as np
arr = np.array([1, 2, 3])
for x in arr:
    print(x)

#Iterating 2D Arrays
arr = np.array([[1, 2, 3], [4, 5, 6]])
#for all rows
for x in arr:
  print(x)
#scalar iteration
for x in arr:
  for y in x:
    print(y)

#Iterating 3D Arrays
arr = np.array([[[1, 2, 3], [4, 5, 6]], [[7, 8, 9], [10, 11, 12]]])
for x in arr:
  print(x)
#scalar iteration
for x in arr:
  for y in x:
    for z in y:
      print(z)

#Iterating Arryas using nditer()
arr = np.array([[[1, 2], [3, 4]], [[5, 6], [7, 8]]])
for x in np.nditer(arr):
  print(x)

#Iterating with different data types
arr = np.array([1, 2, 3])
for x in np.nditer(arr, flags=['buffered'], op_dtypes=['S']):
  print(x)

#Iterating with different step size
arr = np.array([[1, 2, 3, 4], [5, 6, 7, 8]])
for x in np.nditer(arr[:, ::2]):
  print(x)

#Enumerated iteration using ndenumerate()
arr = np.array([1, 2, 3])
for idx, x in np.ndenumerate(arr):
  print(idx, x)











# Your code here





# Your code here





# Your code here





rocket_velocities = np.array([
    [1000, 5000, 8000, 12000],  # Rocket 1's velocity at different times
    [2000, 6000, 9000, 10000],  # Rocket 2
    [3000, 3100, 3200, 3300]    # Rocket 3
])

mass_of_planet = 5.972e24 # kilograms
radius_of_planet = 6.371e6 # meters


# Your code here





# Your comments here





# Your comment here





# Your comment here





# Your code here





# Your code here



