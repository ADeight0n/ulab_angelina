





# Your comment here





# Your code here 





# Your code here





# Your code here





theta_0 = np.radians(10) # Convert 10 degrees to radians
omega_0 = 0.0 # Initial angular velocity





# Your code here





# Your code here





# Your code here





# Your code here





zero_crossings = np.where(np.diff(np.sign(theta_values)))[0]
if len(zero_crossings) >= 2:
    T_numerical = 2 * (time_values[zero_crossings[1]] - time_values[zero_crossings[0]])
else:
    T_numerical = None





# Your code here





# Your code here





# Your comment here





# Your code here





url = "https://covid.ourworldindata.org/data/owid-covid-data.csv"





# Your code here





# Your code here








# Your code here





# Your code here





# Your code here





# Your code here





# Your code here





# Your code here





# Your code here





# Your code here





# Your code here





# Your code here 





# Your code here





# Your comment here





# Your code here





# Your code here





# Your code here



