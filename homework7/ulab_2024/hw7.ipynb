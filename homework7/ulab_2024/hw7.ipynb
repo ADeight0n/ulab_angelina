{
 "cells": [
  {
   "cell_type": "markdown",
   "id": "21a1f0d2-d75c-4443-b816-1d1db3760454",
   "metadata": {},
   "source": [
    "# HW 7 - Libraries + Modules\n",
    "ULAB - Physics and Astronomy Division \\\n",
    "Due **Wednesday, November 6th, 2024 at 11:59pm** on Gradescope\n",
    "\n",
    "--------------------------------------------------------------\n",
    "\n",
    "## Module vs. Package vs. Library\n",
    "### Module\n",
    "A **module** is a single file containing Python code (typically ending in a `.py` extension) that contains functions and variables. \n",
    "- They can be imported into other Python files or notebooks\n",
    "- You use modules to organize code into smaller, reuseable parts\n",
    "- Ex: `even_sum.py` that we created during lecture.\n",
    "\n",
    "*You will create your OWN module for this homework and use that we made during class.*\n",
    "\n",
    "### Package\n",
    "A **package** is a group of modules, organized like a directory. \n",
    "- A package requires a special `__init__.py` file to tell Python that the ENTIRE directory is something you would like to import.\n",
    "- Packages can contain sub-pacakges\n",
    "- Ex: `BAGLE_Microlensing` is an example of a package (if you are in Dex's group, this should be familar to you). Or you could think of `paarti` if you are in Brianna's group.\n",
    "\n",
    "*You will NOT be working with a package for this homework.*\n",
    "\n",
    "### Library\n",
    "A **library** is a much broader term that also refers to a collection of modules (like a package) but a library can also contain mulitple packages. \n",
    "- Libraries serve a much wider range of functionality for\n",
    "- Programmers use packages to have ready-to-go tools that can be used for data manipulation, web development, machine learning or simulations.\n",
    "- Ex: `numpy` is a very common library. Later in this course we will also be working some of the following libraries `matplotlib`, `scipy`, and `astropy`, `pandas`, etc\n",
    "\n",
    "*You WILL be working with the extensive numpy library for this homework!*\n",
    "\n",
    "--------------------------------------------------------------"
   ]
  },
  {
   "cell_type": "markdown",
   "id": "8dc7e46b-1e8e-486c-a2e9-d615c687028b",
   "metadata": {},
   "source": [
    "# 1 NumPy\n",
    "**NumPy** (aka Numerical Python) is a library that was designed for caring out computations in Python. \n",
    "\n",
    "We did not have a ton of time to work through examples during class, so I will ask that you check out this website for more information: https://numpy.org/doc/ \n",
    "\n",
    "Before we can work through any problems, you need to call the following in your notebook:"
   ]
  },
  {
   "cell_type": "code",
   "execution_count": 2,
   "id": "08dabd73-3dbc-4aab-843a-d4b81102835d",
   "metadata": {},
   "outputs": [],
   "source": [
    "import numpy as np"
   ]
  },
  {
   "cell_type": "markdown",
   "id": "92c77920-20fc-455e-bf52-10b5a518ed2d",
   "metadata": {},
   "source": [
    "## 1.1 Lists vs. Arrays\n",
    "*When I first started working with NumPy I didn't understand what was so special about arrays. This homework problem should help illustrate the difference. Make sure to follow each step and follow good coding practices.*\n",
    "\n",
    "1) Make a list called `my_list` and make an array called `my_arr` with the same values. There is an example below, but don't copy mine! Ex:\n",
    "```\n",
    "my_list = [11, 12, 13, 14, 15]\n",
    "my_arr = np.array([11, 12, 13, 14, 15])\n",
    "```\n",
    "*Notice that to use the `numpy` package we had to call its short cut `np` and then call upon its funciton `.array()`. This is similar to working with a built-in python function like `.append()`.*"
   ]
  },
  {
   "cell_type": "code",
   "execution_count": 42,
   "id": "494f31ac-a231-4f65-b202-e85208d6bee4",
   "metadata": {},
   "outputs": [],
   "source": [
    "# Your code here\n",
    "my_list = [3, 7, 14, 18, 19, 24]\n",
    "my_arr = np.array([3, 7, 14, 18, 19, 24])"
   ]
  },
  {
   "cell_type": "markdown",
   "id": "861d42c4-411e-4ef9-b85c-68e1f61c4fcb",
   "metadata": {},
   "source": [
    "2) Multiply `my_list` by 4 and multiply `my_arr` by 4. Print the results. Describe what happens in a comment."
   ]
  },
  {
   "cell_type": "code",
   "execution_count": 22,
   "id": "79245f57-3a83-4300-96d2-ea7a9035d3eb",
   "metadata": {},
   "outputs": [
    {
     "name": "stdout",
     "output_type": "stream",
     "text": [
      "[3, 7, 14, 18, 19, 24, 3, 7, 14, 18, 19, 24, 3, 7, 14, 18, 19, 24, 3, 7, 14, 18, 19, 24]\n",
      "[12 28 56 72 76 96]\n"
     ]
    }
   ],
   "source": [
    "# Your code here\n",
    "my_list *= 4\n",
    "my_arr *= 4\n",
    "#the items in list will be printed over 4 times and the items in the array will each be multiplied by 4\n",
    "print(my_list)\n",
    "print(my_arr)"
   ]
  },
  {
   "cell_type": "markdown",
   "id": "aa2dc2fb-7a26-42e8-90db-18d1598f4d7c",
   "metadata": {},
   "source": [
    "3) Add `my_list` with `my_list`. Add `my_arr` with `my_arr`. Add `my_list` with `my_arr`. Print the results. Describe what happens in a comment."
   ]
  },
  {
   "cell_type": "code",
   "execution_count": 26,
   "id": "9f18f22e-3137-4aa9-b623-6d2c0caec4c3",
   "metadata": {},
   "outputs": [
    {
     "name": "stdout",
     "output_type": "stream",
     "text": [
      "[3, 7, 14, 18, 19, 24, 3, 7, 14, 18, 19, 24, 3, 7, 14, 18, 19, 24, 3, 7, 14, 18, 19, 24, 3, 7, 14, 18, 19, 24, 3, 7, 14, 18, 19, 24, 3, 7, 14, 18, 19, 24, 3, 7, 14, 18, 19, 24, 3, 7, 14, 18, 19, 24, 3, 7, 14, 18, 19, 24, 3, 7, 14, 18, 19, 24, 3, 7, 14, 18, 19, 24, 3, 7, 14, 18, 19, 24, 3, 7, 14, 18, 19, 24, 3, 7, 14, 18, 19, 24, 3, 7, 14, 18, 19, 24]\n",
      "[ 48 112 224 288 304 384]\n"
     ]
    }
   ],
   "source": [
    "# Your code here\n",
    "my_list += my_list\n",
    "my_arr += my_arr\n",
    "print(my_list)\n",
    "print(my_arr)\n",
    "# all the items in my_list are added to the end of my_list but for my_arr all the coresponding items are added. "
   ]
  },
  {
   "cell_type": "markdown",
   "id": "3be18720-756f-43d1-bad7-bd85e138ef7e",
   "metadata": {},
   "source": [
    "4) Subtract `my_list` with `my_list`. Subtract `my_arr` with `my_arr`. Subtract `my_list` with `my_arr`. Print the results. Describe what happens in a comment."
   ]
  },
  {
   "cell_type": "code",
   "execution_count": 34,
   "id": "131b09c8-d352-4566-b710-31316483ae89",
   "metadata": {},
   "outputs": [
    {
     "name": "stdout",
     "output_type": "stream",
     "text": [
      "[3, 7, 14, 18, 19, 24, 3, 7, 14, 18, 19, 24, 3, 7, 14, 18, 19, 24, 3, 7, 14, 18, 19, 24, 3, 7, 14, 18, 19, 24, 3, 7, 14, 18, 19, 24, 3, 7, 14, 18, 19, 24, 3, 7, 14, 18, 19, 24, 3, 7, 14, 18, 19, 24, 3, 7, 14, 18, 19, 24, 3, 7, 14, 18, 19, 24, 3, 7, 14, 18, 19, 24, 3, 7, 14, 18, 19, 24, 3, 7, 14, 18, 19, 24, 3, 7, 14, 18, 19, 24, 3, 7, 14, 18, 19, 24]\n",
      "[0 0 0 0 0 0]\n"
     ]
    }
   ],
   "source": [
    "# Your code here\n",
    "# my_list -= my_list\n",
    "my_arr -= my_arr\n",
    "print(my_list)\n",
    "print(my_arr)\n",
    "#subtracting my_list from my_list returns an error becuase it removes all values from the list and the computer doesn't like that. \n",
    "#For subtracting my_arr from my_arr, an array of 0's is returned. "
   ]
  },
  {
   "cell_type": "markdown",
   "id": "9089eff6-4251-4a52-b263-c77b11343ece",
   "metadata": {},
   "source": [
    "5) Multiply `my_list` with `my_list`. Multply `my_arr` with `my_arr`. Multiply `my_list` with `my_arr`. Print the results. Describe what happens in a comment."
   ]
  },
  {
   "cell_type": "code",
   "execution_count": 54,
   "id": "cae7749f-cc6e-45d6-9e07-72aa2cefc0b6",
   "metadata": {},
   "outputs": [
    {
     "name": "stdout",
     "output_type": "stream",
     "text": [
      "[3, 7, 14, 18, 19, 24]\n",
      "[    81   2401  38416 104976 130321 331776]\n"
     ]
    }
   ],
   "source": [
    "# Your code here\n",
    "# my_list *= my_list\n",
    "my_arr *= my_arr\n",
    "print(my_list)\n",
    "print(my_arr)\n",
    "#first I reran the cell initializing my_arr and my_list so I had numbers to work with. Multiplying two lists does not work but \n",
    "#multiplying two arrays will return an array of the same size with each item multiplied by itself"
   ]
  },
  {
   "cell_type": "markdown",
   "id": "55175f6e-e6b2-41b1-8015-5f1b099664e8",
   "metadata": {},
   "source": [
    "7) Divide `my_list` with `my_list`. Divide `my_arr` with `my_arr`. Divide `my_list` with `my_arr`. Print the results. Describe what happens in a comment."
   ]
  },
  {
   "cell_type": "code",
   "execution_count": 74,
   "id": "ccdc8e13-ec41-4b79-8034-0934c012580e",
   "metadata": {},
   "outputs": [
    {
     "name": "stdout",
     "output_type": "stream",
     "text": [
      "[3, 7, 14, 18, 19, 24]\n",
      "[1. 1. 1. 1. 1. 1.]\n"
     ]
    }
   ],
   "source": [
    "# Your code here\n",
    "#my_list = my_list / my_list\n",
    "my_arr = my_arr / my_arr\n",
    "print(my_list)\n",
    "print(my_arr)\n",
    "#division didn't work with the lists but did work with the array where it divied each coresponding item. However, '/=' did not work \n",
    "#and I had explicitly write out the division."
   ]
  },
  {
   "cell_type": "markdown",
   "id": "1fb261e6-b99b-4e36-953a-e899da010469",
   "metadata": {},
   "source": [
    "8) After working through this problem, in at least two sentences, describe the difference between a list and an array."
   ]
  },
  {
   "cell_type": "markdown",
   "id": "68834e2f-846a-4949-b829-25c61638ba77",
   "metadata": {},
   "source": [
    "# Your code here\n",
    "A list does not require a package and is already integrated in python, however it is not great for doing math and is more difficult to change the values of each item. An array comes from the numpy package which has to be imported first. Arrays are better for doing math because the opperation will be applied to each seperate item while for lists it more so manipulates the lenght of the list rather than its individual items. "
   ]
  },
  {
   "cell_type": "markdown",
   "id": "fdbccced-d3f0-4948-be6e-471028979576",
   "metadata": {},
   "source": [
    "## 1.2 Nested List and Multi-Dimensional Arrays\n",
    "A **nested list** is when you have a list as an element for a list. Example:\n",
    "```\n",
    "nested_list = [[1, 2, 3], [4, 5, 6]]\n",
    "```\n",
    "\n",
    "A **multi-dimensional array** is essentially a nested list, but it contains the properties of a matrix. Example:\n",
    "```\n",
    "multi_d_array = np.array([[1, 2, 3], [4, 5, 6]])\n",
    "```\n",
    "\n",
    "Go to this website for more information on NumPy: https://www.w3schools.com/python/numpy/default.asp\n",
    "\n",
    "Write a **function** that takes in a two-dimensional array. Example:\n",
    "\n",
    "```\n",
    "arr3 = np.array([[2, 4, 6], [8, 10, 12], [14, 16, 18]])\n",
    "```\n",
    "\n",
    "and then returns the second value in each row. Example:\n",
    "\n",
    "```\n",
    "[4, 10, 16]\n",
    "```"
   ]
  },
  {
   "cell_type": "code",
   "execution_count": 270,
   "id": "e6d45993-2390-4e2d-bb6e-930919dd7d46",
   "metadata": {},
   "outputs": [
    {
     "name": "stdout",
     "output_type": "stream",
     "text": [
      "[ 4 10 16]\n"
     ]
    }
   ],
   "source": [
    "# Your code here\n",
    "arr3 = np.array([[2, 4, 6], [8, 10, 12], [14, 16, 18]])\n",
    "def second_value(arr2D):\n",
    "#returns the second value for each row in the array\n",
    "    second_values = arr2D[0:len(arr2D), 1]\n",
    "    return second_values\n",
    "\n",
    "print(second_value(arr3))"
   ]
  },
  {
   "cell_type": "markdown",
   "id": "e5c0700d-def9-4afe-86f5-0a4b8862c0b4",
   "metadata": {},
   "source": [
    "In 2-3 sentences, describe what section of the website helped you write your function. "
   ]
  },
  {
   "cell_type": "markdown",
   "id": "7f54056c-3a17-4fcc-8bea-2b83e31575ff",
   "metadata": {},
   "source": [
    "# Your comment here\n",
    "I went to the slicing array section of the website. There I saw examples showing how to access and return certain elements of arrays of various lengths. This is where I found out how to set a range to access elements. "
   ]
  },
  {
   "cell_type": "markdown",
   "id": "2bee5ead-232c-495c-8e42-1721bd315957",
   "metadata": {},
   "source": [
    "How would you take a nested list and return the second value in each row? Explain in 2-3 sentences and show an example."
   ]
  },
  {
   "cell_type": "code",
   "execution_count": 264,
   "id": "b99fecc0-0b8a-463e-a108-bb126200aecc",
   "metadata": {},
   "outputs": [
    {
     "data": {
      "text/plain": [
       "[2, 5]"
      ]
     },
     "execution_count": 264,
     "metadata": {},
     "output_type": "execute_result"
    }
   ],
   "source": [
    "#To access the second value of each row in a nested list you would need to loop through each element in each row. \n",
    "#This would take two for statements, the first one looping though the rows and the second one looping though the elements. \n",
    "\n",
    "nested_list = [[1, 2, 3], [4, 5, 6]]\n",
    "def second_value_nested_loop(list):\n",
    "#returns the second value of each row in a list\n",
    "    second_values = []\n",
    "    for i in range(len(list)):\n",
    "        for j in range(len(list[i])):\n",
    "            if j == 1:\n",
    "                second_values.append(list[i][j])\n",
    "\n",
    "    return second_values\n",
    "second_value_nested_loop(nested_list)"
   ]
  },
  {
   "cell_type": "markdown",
   "id": "25eaeadc-b09d-4ca8-9849-822879abdad2",
   "metadata": {},
   "source": [
    "## 1.3 Up to You!\n",
    "With the website I just gave you: https://www.w3schools.com/python/numpy/default.asp\n",
    "\n",
    "I recommend working through the examples they provide (you don't have to do all of them, but a few would be good). It will help you build an intuition for numpy. It won't take very long, there are only a couple of examples per section.\n",
    "\n",
    "Write you own **function** that follows the theme of one of the sections (i.e. array reshaping, array filter, random intro, etc). For example, if you are curious about the section \"**NumPy Creating Arrays**\" you could write a function that creates a multi-dimensional array.\n",
    "\n",
    "```\n",
    "\n",
    ">>> def make_multi_dimensional_array(one_d_array, dimensions):\n",
    "...     # Creates a multi-dimensional array\n",
    "...     # Your code here\n",
    "...     return # Your code here\n",
    "\n",
    ">>> my_one_d_array = [2, 4, 6, 8]\n",
    ">>> my_dimension = 10\n",
    ">>> ten_d_array = make_multi_dimensional_array(my_one_d_array, my_dimension)\n",
    ">>> print(ten_d_array)\n",
    "[[[[[[[[[[2 4 6 8]]]]]]]]]]\n",
    "\n",
    "```\n",
    "\n",
    "Your function should be more detailed than the example I gave you. Include at least one of the following: \n",
    "- a conditional statement\n",
    "- an assignment operator\n",
    "- a loop (`for` or `while`)\n",
    "- `if`, `elif`, `else`, statement"
   ]
  },
  {
   "cell_type": "code",
   "execution_count": 349,
   "id": "359f524a-30ee-446c-a6d6-a57faecf5bcb",
   "metadata": {},
   "outputs": [
    {
     "data": {
      "text/plain": [
       "'You have 6 apples in your basket'"
      ]
     },
     "execution_count": 349,
     "metadata": {},
     "output_type": "execute_result"
    }
   ],
   "source": [
    "# Your code here\n",
    "#themed after array interation \n",
    "apple_tree = np.array([['leaf', 'leaf', 'apple', 'leaf'],['apple', 'apple', 'leaf', 'leaf'], ['leaf', 'apple', 'leaf', 'leaf'],\n",
    "                      ['leaf', 'leaf', 'apple', 'apple']])\n",
    "def apple_picking(tree_arr):\n",
    "# takes an apple tree array, and picks out the apples from the leaves. returns how many apples were picked from that apple tree array\n",
    "    basket = np.array([])\n",
    "    for i in tree_arr: #looping though rows\n",
    "        for j in i: # looping though elements of each row\n",
    "            if  j == 'apple': #checking if element is an apple\n",
    "                basket = np.append(basket, j) #adding apple to basket \n",
    "    message = (f'You have {len(basket)} apples in your basket')\n",
    "\n",
    "    return message\n",
    "\n",
    "apple_picking(apple_tree)"
   ]
  },
  {
   "cell_type": "markdown",
   "id": "88df7c51-0196-42b5-aabf-5068bc6ad675",
   "metadata": {},
   "source": [
    "In the section you took inspiration from, show all of the examples below. Follow good coding practices and give at least two test cases for each example. Don't forget comments! \\\n",
    "\\\n",
    "*For my example, I took inspiration from **NumPy Creating Arrays** so I would show following examples with DIFFERENT test cases: Create a NumPy ndarray Object, Dimensions in Arrays ,0-D Arrays, 1-D Arrays, 2-D Arrays, 3-D Arrays, Check Number of Dimensions, Higher Dimensional Arrays.*"
   ]
  },
  {
   "cell_type": "code",
   "execution_count": 351,
   "id": "193b91b8-de1d-4aee-af90-6a0e10930b55",
   "metadata": {},
   "outputs": [
    {
     "name": "stdout",
     "output_type": "stream",
     "text": [
      "1\n",
      "2\n",
      "3\n",
      "[1 2 3]\n",
      "[4 5 6]\n",
      "1\n",
      "2\n",
      "3\n",
      "4\n",
      "5\n",
      "6\n",
      "[[1 2 3]\n",
      " [4 5 6]]\n",
      "[[ 7  8  9]\n",
      " [10 11 12]]\n",
      "1\n",
      "2\n",
      "3\n",
      "4\n",
      "5\n",
      "6\n",
      "7\n",
      "8\n",
      "9\n",
      "10\n",
      "11\n",
      "12\n",
      "1\n",
      "2\n",
      "3\n",
      "4\n",
      "5\n",
      "6\n",
      "7\n",
      "8\n",
      "b'1'\n",
      "b'2'\n",
      "b'3'\n",
      "1\n",
      "3\n",
      "5\n",
      "7\n",
      "(0,) 1\n",
      "(1,) 2\n",
      "(2,) 3\n"
     ]
    }
   ],
   "source": [
    "# Your code here\n",
    "#Iterating Arrays\n",
    "import numpy as np\n",
    "arr = np.array([1, 2, 3])\n",
    "for x in arr:\n",
    "    print(x)\n",
    "\n",
    "#Iterating 2D Arrays\n",
    "arr = np.array([[1, 2, 3], [4, 5, 6]])\n",
    "#for all rows\n",
    "for x in arr:\n",
    "  print(x)\n",
    "#scalar iteration\n",
    "for x in arr:\n",
    "  for y in x:\n",
    "    print(y)\n",
    "\n",
    "#Iterating 3D Arrays\n",
    "arr = np.array([[[1, 2, 3], [4, 5, 6]], [[7, 8, 9], [10, 11, 12]]])\n",
    "for x in arr:\n",
    "  print(x)\n",
    "#scalar iteration\n",
    "for x in arr:\n",
    "  for y in x:\n",
    "    for z in y:\n",
    "      print(z)\n",
    "\n",
    "#Iterating Arryas using nditer()\n",
    "arr = np.array([[[1, 2], [3, 4]], [[5, 6], [7, 8]]])\n",
    "for x in np.nditer(arr):\n",
    "  print(x)\n",
    "\n",
    "#Iterating with different data types\n",
    "arr = np.array([1, 2, 3])\n",
    "for x in np.nditer(arr, flags=['buffered'], op_dtypes=['S']):\n",
    "  print(x)\n",
    "\n",
    "#Iterating with different step size\n",
    "arr = np.array([[1, 2, 3, 4], [5, 6, 7, 8]])\n",
    "for x in np.nditer(arr[:, ::2]):\n",
    "  print(x)\n",
    "\n",
    "#Enumerated iteration using ndenumerate()\n",
    "arr = np.array([1, 2, 3])\n",
    "for idx, x in np.ndenumerate(arr):\n",
    "  print(idx, x)"
   ]
  },
  {
   "cell_type": "markdown",
   "id": "c90148dc-cac4-4322-86ff-5b112bae306f",
   "metadata": {},
   "source": [
    "In 2-3 sentences, describe how your function took inspiration from a section.\\\n",
    "\\\n",
    "*For my example, `make_multi_dimensional_array`, I would talk about the **NumPy Creating Arrays** section and how I took inspiration from the example **Higher Dimensional Arrays**.*"
   ]
  },
  {
   "cell_type": "markdown",
   "id": "308dc85f-5190-4987-a5a5-cb8a03368554",
   "metadata": {},
   "source": [
    "# Your comment here\n",
    "The NumPy Array Iterating section went over how to loop though the elements of arrays, including arrays of more than one dimension and arrays with non-integer elements. This inspired me to write a function that took a 2D arr and looped though each row and element. To make it more comlicated I was also partially inspired by the Array Search section which was manifested in the search for apples. "
   ]
  },
  {
   "cell_type": "markdown",
   "id": "8a834fd4-ef1b-4464-a07a-76e08a1c81c8",
   "metadata": {},
   "source": [
    "# 2 Brianna's Module\n",
    "During lecture we created and worked with a module called `even_sum.py`. Import that module here. "
   ]
  },
  {
   "cell_type": "code",
   "execution_count": 396,
   "id": "66e2a829-e478-4c97-8412-846cd93161f8",
   "metadata": {},
   "outputs": [],
   "source": [
    "# Your code here\n",
    "import even_sum"
   ]
  },
  {
   "cell_type": "markdown",
   "id": "210ee2c2-9b81-4ea4-bbe7-2d1fa94d646e",
   "metadata": {},
   "source": [
    "Now that you have imported the module. Call the module and the first function with your own list of numbers. "
   ]
  },
  {
   "cell_type": "code",
   "execution_count": 418,
   "id": "89ad196d-5948-4e20-899a-d31eebdc4f2a",
   "metadata": {},
   "outputs": [
    {
     "ename": "AttributeError",
     "evalue": "module 'even_sum' has no attribute 'sum_even_numbers'",
     "output_type": "error",
     "traceback": [
      "\u001b[0;31m---------------------------------------------------------------------------\u001b[0m",
      "\u001b[0;31mAttributeError\u001b[0m                            Traceback (most recent call last)",
      "Cell \u001b[0;32mIn[418], line 3\u001b[0m\n\u001b[1;32m      1\u001b[0m \u001b[38;5;66;03m# Your code here\u001b[39;00m\n\u001b[1;32m      2\u001b[0m my_list \u001b[38;5;241m=\u001b[39m [\u001b[38;5;241m7\u001b[39m, \u001b[38;5;241m3\u001b[39m, \u001b[38;5;241m4\u001b[39m, \u001b[38;5;241m8\u001b[39m, \u001b[38;5;241m5\u001b[39m, \u001b[38;5;241m6\u001b[39m, \u001b[38;5;241m9\u001b[39m]\n\u001b[0;32m----> 3\u001b[0m \u001b[38;5;28mprint\u001b[39m(even_sum\u001b[38;5;241m.\u001b[39msum_even_numbers(my_list))\n",
      "\u001b[0;31mAttributeError\u001b[0m: module 'even_sum' has no attribute 'sum_even_numbers'"
     ]
    }
   ],
   "source": [
    "# Your code here\n",
    "my_list = [7, 3, 4, 8, 5, 6, 9]\n",
    "print(even_sum.sum_even_numbers(my_list))"
   ]
  },
  {
   "cell_type": "markdown",
   "id": "110d3cb8-b809-467b-9447-57810e4e3853",
   "metadata": {},
   "source": [
    "I have provided you a separate module called `example.py`. Import that module here."
   ]
  },
  {
   "cell_type": "code",
   "execution_count": 384,
   "id": "092eb2b9-dd15-4fdf-a7a2-ad32cd22ed88",
   "metadata": {},
   "outputs": [],
   "source": [
    "# Your code here\n",
    "import example"
   ]
  },
  {
   "cell_type": "markdown",
   "id": "a6922f89-01e7-41af-82e2-4236daa103b1",
   "metadata": {},
   "source": [
    "With the following variables, use my module to show which of the rocket's escape!"
   ]
  },
  {
   "cell_type": "code",
   "execution_count": 386,
   "id": "6b2e8b39-8441-469a-a128-19b04b8c8a2f",
   "metadata": {},
   "outputs": [],
   "source": [
    "rocket_velocities = np.array([\n",
    "    [1000, 5000, 8000, 12000],  # Rocket 1's velocity at different times\n",
    "    [2000, 6000, 9000, 10000],  # Rocket 2\n",
    "    [3000, 3100, 3200, 3300]    # Rocket 3\n",
    "])\n",
    "\n",
    "mass_of_planet = 5.972e24 # kilograms\n",
    "radius_of_planet = 6.371e6 # meters"
   ]
  },
  {
   "cell_type": "code",
   "execution_count": 406,
   "id": "05196d65-9e31-4cec-ad01-9f9cebe00046",
   "metadata": {},
   "outputs": [
    {
     "data": {
      "text/plain": [
       "['Rocket left the planet!',\n",
       " 'Rocket is orbiting around the planet.',\n",
       " 'Rocket crashes back into the planet!']"
      ]
     },
     "execution_count": 406,
     "metadata": {},
     "output_type": "execute_result"
    }
   ],
   "source": [
    "# Your code here\n",
    "example.escape_velocity(mass_of_planet, radius_of_planet)\n",
    "example.orbital_velocity(mass_of_planet, radius_of_planet)\n",
    "example.rocket_launch(rocket_velocities, mass_of_planet, radius_of_planet)"
   ]
  },
  {
   "cell_type": "markdown",
   "id": "9ab3de38-dbd9-438f-a587-67e8777c9c93",
   "metadata": {},
   "source": [
    "In 2-3 sentences describe how this code follows \"good coding practices\" and where there is room for improvement."
   ]
  },
  {
   "cell_type": "markdown",
   "id": "8e08213b-5669-426b-ba87-592a258b21bb",
   "metadata": {},
   "source": [
    "# Your comments here\n",
    "This code follows \"good coding practices\" by naming functions and variables explicitly so you can clearly tell what they are and what they do. The code also has a lot of comments that describe what the inputs, outputs, and what each function is doing. An improvement that could be made is naming the module something other than example so that you know what the module does. "
   ]
  },
  {
   "cell_type": "markdown",
   "id": "2dce5617-a86a-4327-aa99-f29548f3b92c",
   "metadata": {},
   "source": [
    "# 3 Your Turn!\n",
    "Now its your turn to make a module! Choose a topic from a class (could be physics, computer science, nuclear engineering, biology, astronomy, math, or an topic that interests you!) and build a module around it! Look at my module called `example.py` and base your structure around it. Your module NEEDS to include the following.\n",
    "\n",
    "Overall:\n",
    "1) Your module needs to use at least one NumPy function: https://numpy.org/devdocs/reference/routines.math.html\n",
    "2) Your module needs to contain a multi-dimensional array: https://numpy.org/devdocs/reference/arrays.ndarray.html \n",
    "3) Your module needs **at least** three functions that follow good coding practices.\n",
    "4) Inside your function, include comments. Don't forget to describe what the function is doing and what the inputs and outputs are.\n",
    "5) Your module needs either a `for` loop or `while` loop.\n",
    "6) Your module needs an `if`, `elif`, and `else` statement.\n",
    "7) Your module needs at least two assignment variables (`+=`, `*=`, etc).\n",
    "8) Creativity. *If it looks like you plugged this whole thing into ChatGPT, I will take off points. You can use ChatGPT to help you code, but you can't use it to just do your homework for you. That's no fun :(*\n",
    "\n",
    "In 2-3 sentences, describe the topic of your module and its capabilities. "
   ]
  },
  {
   "cell_type": "code",
   "execution_count": 682,
   "id": "c16011c9-2a90-4090-b3c9-bae3827f1122",
   "metadata": {},
   "outputs": [
    {
     "name": "stdout",
     "output_type": "stream",
     "text": [
      "[6.33333333 2.33333333 9.33333333]\n",
      "[ 2.         22.33333333  3.66666667]\n",
      "[  4.33333333 -20.           5.66666667]\n",
      "run 0 achieved ignition\n",
      "run 1 did not reach ignition\n",
      "run 2 achieved ignition\n"
     ]
    }
   ],
   "source": [
    "gain = np.array([[4,7,8],[1,2,4],[8,9,11]])\n",
    "loss = np.array([[3,2,1],[20, 23, 24],[5,4,2]])\n",
    "\n",
    "\n",
    "print(heating_rate(gain))\n",
    "print(energy_lost_rate(loss))\n",
    "achieve(gain, loss)\n",
    "    "
   ]
  },
  {
   "cell_type": "code",
   "execution_count": 684,
   "id": "0db7310e-b286-4ce7-aa0b-c211e243b7d6",
   "metadata": {},
   "outputs": [],
   "source": [
    "# Your comment here"
   ]
  },
  {
   "cell_type": "markdown",
   "id": "f9ec7fbd-1d6d-4c08-8528-e9cdaa7e3f6b",
   "metadata": {},
   "source": [
    "In 2-3 sentences, answer the following. What was the most challenging part of building this module? What did you learn in the process that you can apply to future coding assignments?"
   ]
  },
  {
   "cell_type": "code",
   "execution_count": 715,
   "id": "19898c20-2adb-4011-b95e-1da864f7801a",
   "metadata": {},
   "outputs": [],
   "source": [
    "# Your comment here"
   ]
  },
  {
   "cell_type": "markdown",
   "id": "85e943ab-1036-46bc-b9fb-da4ab1890816",
   "metadata": {},
   "source": [
    "Once your module is complete, import it here."
   ]
  },
  {
   "cell_type": "code",
   "execution_count": 793,
   "id": "fb9821b1-3cc0-4999-97eb-441571bbd5e1",
   "metadata": {},
   "outputs": [],
   "source": [
    "# Your code here\n",
    "import ignition"
   ]
  },
  {
   "cell_type": "markdown",
   "id": "ac42ebd4-e51b-4be4-aaa7-6c7d550abd30",
   "metadata": {},
   "source": [
    "Call each of your functions in the cell below. Make sure to show the outputs! "
   ]
  },
  {
   "cell_type": "code",
   "execution_count": 797,
   "id": "b63d3d1f-64bd-4dc7-b20f-c562d09c7c92",
   "metadata": {},
   "outputs": [
    {
     "name": "stdout",
     "output_type": "stream",
     "text": [
      "[ 6.33333333  8.66666667 18.        ]\n",
      "[ 2.         24.33333333 28.        ]\n",
      "run 0 achieved ignition\n",
      "run 1 did not reach ignition\n",
      "run 2 did not reach ignition\n"
     ]
    }
   ],
   "source": [
    "# Your code here\n",
    "gain = np.array([[4,7,8],[1,2,4],[8,9,11]])\n",
    "loss = np.array([[3,2,1],[20, 23, 24],[5,4,2]])\n",
    "\n",
    "print(ignition.heating_rate(gain))\n",
    "print(ignition.energy_lost_rate(loss))\n",
    "ignition.achieve(gain, loss)"
   ]
  },
  {
   "cell_type": "markdown",
   "id": "8cf33b19-9bca-484e-8129-d8a4896a1bfa",
   "metadata": {},
   "source": [
    "# 4 Proper Submission\n",
    "To recieve full credit for this assignment make sure you do the following:\n",
    "\n",
    "1) Copy this homework assignment from the `ulab_2024` repository into **YOUR** local `homework7` branch. It will contain this notebook and an additional file called `example.py`. \n",
    "   \n",
    "2) Follow the tasks. Make sure to run all the cells so that **all** output is visible. You will get points taken off if your ouputs are not shown!\n",
    "\n",
    "3) Add/commit/push this notebook and **ANY** modules (so you should have `example.py` and your module) used in this homework assignment to your remote `homework7` branch. Make sure to have NOTHING else in your branch (i.e. no previous homeworks or lecture notes).\n",
    "\n",
    "4) Do the following:\n",
    "- Take a screenshot of moving **into or out** of your `homework7` brach, call it `hw7_branch`.\n",
    "- Take a screenshot of calling `ls` in your `homework7` branch, it should only contain items relevent to homework 7, call it `hw7_ls`.\n",
    "- Take a screenshot of adding this assignment to your local `homework7` branch, call it `hw7_add`.\n",
    "- Take a screenshot of committing this assignment to your local `homework7` branch, call it `hw7_commit`.\n",
    "- Take a screenshot of pushing this assignment to your remote `homework7` branch, call it `hw7_push`. \n",
    "\n",
    "6) Include these screenshots in your `homework7` branch. Upload your `homework7` branch to Gradescope!"
   ]
  },
  {
   "cell_type": "code",
   "execution_count": null,
   "id": "9e830d40-1a06-48e1-99a1-1de50d1f32e3",
   "metadata": {},
   "outputs": [],
   "source": []
  }
 ],
 "metadata": {
  "kernelspec": {
   "display_name": "Python 3 (ipykernel)",
   "language": "python",
   "name": "python3"
  },
  "language_info": {
   "codemirror_mode": {
    "name": "ipython",
    "version": 3
   },
   "file_extension": ".py",
   "mimetype": "text/x-python",
   "name": "python",
   "nbconvert_exporter": "python",
   "pygments_lexer": "ipython3",
   "version": "3.12.4"
  }
 },
 "nbformat": 4,
 "nbformat_minor": 5
}
