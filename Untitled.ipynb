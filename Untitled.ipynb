{
 "cells": [
  {
   "cell_type": "code",
   "execution_count": 2,
   "id": "96638977-2303-42de-afb0-7125f25499f8",
   "metadata": {},
   "outputs": [
    {
     "name": "stdout",
     "output_type": "stream",
     "text": [
      "[10, 20, 30, 40, 50]\n"
     ]
    }
   ],
   "source": [
    "#introduction to lists\n",
    "#createing a list\n",
    "my_list = [10, 20, 30, 40 ,50]\n",
    "print(my_list)"
   ]
  },
  {
   "cell_type": "code",
   "execution_count": 8,
   "id": "15ef65d7-e985-4a74-96f7-9674cc2376f6",
   "metadata": {},
   "outputs": [
    {
     "name": "stdout",
     "output_type": "stream",
     "text": [
      "10\n",
      "40\n"
     ]
    }
   ],
   "source": [
    "#accessing elements by their elements\n",
    "print(my_list[0])\n",
    "print(my_list[3])"
   ]
  },
  {
   "cell_type": "code",
   "execution_count": 16,
   "id": "1ae01dfd-0970-49b1-a1a8-862eca598298",
   "metadata": {},
   "outputs": [
    {
     "name": "stdout",
     "output_type": "stream",
     "text": [
      "[10, 20, 30]\n",
      "[20, 30, 40]\n"
     ]
    }
   ],
   "source": [
    "#slicing a list (extract a part of the list)\n",
    "print(my_list[0:3])\n",
    "print(my_list[1:4])"
   ]
  },
  {
   "cell_type": "code",
   "execution_count": 18,
   "id": "ad5ff8cb-5765-4719-b05d-559ea288d214",
   "metadata": {},
   "outputs": [
    {
     "name": "stdout",
     "output_type": "stream",
     "text": [
      "50\n"
     ]
    }
   ],
   "source": [
    "#negetive indexing\n",
    "print(my_list[-1])"
   ]
  },
  {
   "cell_type": "code",
   "execution_count": 38,
   "id": "57a9cb50-bf15-45c9-9bbb-0968989fb8da",
   "metadata": {},
   "outputs": [
    {
     "name": "stdout",
     "output_type": "stream",
     "text": [
      "[10, 35, 35, 50, 60, 60]\n"
     ]
    }
   ],
   "source": [
    "#modifying\n",
    "my_list[2] = 35\n",
    "print(my_list)"
   ]
  },
  {
   "cell_type": "code",
   "execution_count": 34,
   "id": "29955a9f-af11-4f92-84f5-a6d1c87ecd11",
   "metadata": {},
   "outputs": [
    {
     "name": "stdout",
     "output_type": "stream",
     "text": [
      "[10, 35, 40, 50, 60, 60]\n"
     ]
    }
   ],
   "source": [
    "#appending elements\n",
    "my_list.append(60)\n",
    "print(my_list)"
   ]
  },
  {
   "cell_type": "code",
   "execution_count": 36,
   "id": "2771310e-f4ec-4bfa-afdc-980e613dfffa",
   "metadata": {},
   "outputs": [
    {
     "ename": "ValueError",
     "evalue": "list.remove(x): x not in list",
     "output_type": "error",
     "traceback": [
      "\u001b[0;31m---------------------------------------------------------------------------\u001b[0m",
      "\u001b[0;31mValueError\u001b[0m                                Traceback (most recent call last)",
      "Cell \u001b[0;32mIn[36], line 2\u001b[0m\n\u001b[1;32m      1\u001b[0m \u001b[38;5;66;03m#removing elements\u001b[39;00m\n\u001b[0;32m----> 2\u001b[0m my_list\u001b[38;5;241m.\u001b[39mremove(\u001b[38;5;241m20\u001b[39m)\n\u001b[1;32m      3\u001b[0m \u001b[38;5;28mprint\u001b[39m(my_list)\n",
      "\u001b[0;31mValueError\u001b[0m: list.remove(x): x not in list"
     ]
    }
   ],
   "source": [
    "#removing elements\n",
    "my_list.remove(20)\n",
    "print(my_list)"
   ]
  },
  {
   "cell_type": "code",
   "execution_count": 48,
   "id": "f672e8cd-b6a9-4350-935e-59099f43241c",
   "metadata": {},
   "outputs": [
    {
     "name": "stdout",
     "output_type": "stream",
     "text": [
      "[10, 35, 60]\n",
      "[60, 60, 50, 35, 35, 10]\n"
     ]
    }
   ],
   "source": [
    "#list slicing and striding\n",
    "#slicing (stepping)\n",
    "print(my_list[::2])\n",
    "\n",
    "#slicing in reverse\n",
    "#[defaultstart:defaultstop:step]\n",
    "print(my_list[::-1])"
   ]
  },
  {
   "cell_type": "code",
   "execution_count": 52,
   "id": "5fceba05-3ec2-4285-bf82-6de6929512bd",
   "metadata": {},
   "outputs": [
    {
     "name": "stdout",
     "output_type": "stream",
     "text": [
      "[10, 35, 35, 50, 60, 60]\n",
      "10\n",
      "35\n",
      "35\n",
      "50\n",
      "60\n",
      "60\n"
     ]
    }
   ],
   "source": [
    "#For loops\n",
    "#use a for loop to iterate over a list\n",
    "print(my_list)\n",
    "for element in my_list:\n",
    "    print(element)"
   ]
  },
  {
   "cell_type": "code",
   "execution_count": 54,
   "id": "95e9b82d-1586-4c27-b7ca-16eb079c5621",
   "metadata": {},
   "outputs": [
    {
     "name": "stdout",
     "output_type": "stream",
     "text": [
      "0 10\n",
      "1 35\n",
      "2 35\n",
      "3 50\n",
      "4 60\n",
      "5 60\n"
     ]
    }
   ],
   "source": [
    "#using range() to loop through indices\n",
    "for i in range(len(my_list)):\n",
    "    print(i, my_list[i])"
   ]
  },
  {
   "cell_type": "code",
   "execution_count": 56,
   "id": "8c4112a1-a28f-420b-a531-888f91a42374",
   "metadata": {},
   "outputs": [
    {
     "name": "stdout",
     "output_type": "stream",
     "text": [
      "x is greater than 10\n"
     ]
    }
   ],
   "source": [
    "#conditionals (if, elif, else)\n",
    "#if-else statment\n",
    "x = 15\n",
    "y = 5\n",
    "if x > 10:\n",
    "    print('x is greater than 10')\n",
    "else:\n",
    "    print('x is less than 10')\n"
   ]
  },
  {
   "cell_type": "code",
   "execution_count": 58,
   "id": "1e8e9769-8d90-432d-ba0c-d2e1e2e39af4",
   "metadata": {},
   "outputs": [
    {
     "name": "stdout",
     "output_type": "stream",
     "text": [
      "10 is less than 40\n",
      "35 is less than 40\n",
      "35 is less than 40\n",
      "50 is greater than 40\n",
      "60 is greater than 40\n",
      "60 is greater than 40\n"
     ]
    }
   ],
   "source": [
    "#using conditionals inside loops\n",
    "for element in my_list:\n",
    "    if element > 40:\n",
    "        print(f\"{element} is greater than 40\")\n",
    "    elif element == 40:\n",
    "        print(f\"{element} is equal to 40\")\n",
    "    else:\n",
    "        print(f\"{element} is less than 40\")"
   ]
  },
  {
   "cell_type": "code",
   "execution_count": 60,
   "id": "a409378d-df85-4572-85f6-8693e862f799",
   "metadata": {},
   "outputs": [
    {
     "name": "stdout",
     "output_type": "stream",
     "text": [
      "count: 0\n",
      "count: 1\n",
      "count: 2\n",
      "count: 3\n",
      "count: 4\n"
     ]
    }
   ],
   "source": [
    "# while loops\n",
    "count = 0\n",
    "while count < 5:\n",
    "    print(\"count:\", count)\n",
    "    count+=1"
   ]
  },
  {
   "cell_type": "code",
   "execution_count": 87,
   "id": "ab27e9ad-b739-4852-ad8b-109374fd420e",
   "metadata": {},
   "outputs": [],
   "source": [
    "#combining loops and conditionals again\n",
    "#using a while loop with conditionals to find a number in a list\n",
    "target = 40\n",
    "found = False\n",
    "i = 0\n",
    "while not found and i < len(my_list):\n",
    "    if my_list[i] == target:\n",
    "        print(f\"Found {target} at index {i}\")\n",
    "        found = True\n",
    "    i += 1\n",
    "    "
   ]
  }
 ],
 "metadata": {
  "kernelspec": {
   "display_name": "Python 3 (ipykernel)",
   "language": "python",
   "name": "python3"
  },
  "language_info": {
   "codemirror_mode": {
    "name": "ipython",
    "version": 3
   },
   "file_extension": ".py",
   "mimetype": "text/x-python",
   "name": "python",
   "nbconvert_exporter": "python",
   "pygments_lexer": "ipython3",
   "version": "3.12.4"
  }
 },
 "nbformat": 4,
 "nbformat_minor": 5
}
